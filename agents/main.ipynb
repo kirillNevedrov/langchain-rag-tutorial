{
 "cells": [
  {
   "cell_type": "code",
   "execution_count": 12,
   "id": "fcdfb199-22a4-498a-917b-a85af6615f01",
   "metadata": {},
   "outputs": [
    {
     "data": {
      "text/plain": [
       "True"
      ]
     },
     "execution_count": 12,
     "metadata": {},
     "output_type": "execute_result"
    }
   ],
   "source": [
    "from dotenv import load_dotenv\n",
    "\n",
    "load_dotenv()  # loads variables from .env into environment"
   ]
  },
  {
   "cell_type": "code",
   "execution_count": 13,
   "id": "961dac3d-9a6f-4371-b360-3683de64e0a2",
   "metadata": {},
   "outputs": [
    {
     "name": "stdout",
     "output_type": "stream",
     "text": [
      "{'query': 'What is the weather in SF', 'follow_up_questions': None, 'answer': None, 'images': [], 'results': [{'title': 'Weather in San Francisco', 'url': 'https://www.weatherapi.com/', 'content': \"{'location': {'name': 'San Francisco', 'region': 'California', 'country': 'United States of America', 'lat': 37.775, 'lon': -122.4183, 'tz_id': 'America/Los_Angeles', 'localtime_epoch': 1752855565, 'localtime': '2025-07-18 09:19'}, 'current': {'last_updated_epoch': 1752855300, 'last_updated': '2025-07-18 09:15', 'temp_c': 15.6, 'temp_f': 60.1, 'is_day': 1, 'condition': {'text': 'Partly cloudy', 'icon': '//cdn.weatherapi.com/weather/64x64/day/116.png', 'code': 1003}, 'wind_mph': 5.8, 'wind_kph': 9.4, 'wind_degree': 265, 'wind_dir': 'W', 'pressure_mb': 1017.0, 'pressure_in': 30.03, 'precip_mm': 0.0, 'precip_in': 0.0, 'humidity': 83, 'cloud': 75, 'feelslike_c': 15.6, 'feelslike_f': 60.1, 'windchill_c': 13.0, 'windchill_f': 55.5, 'heatindex_c': 13.5, 'heatindex_f': 56.4, 'dewpoint_c': 12.0, 'dewpoint_f': 53.6, 'vis_km': 16.0, 'vis_miles': 9.0, 'uv': 2.7, 'gust_mph': 7.4, 'gust_kph': 11.8}}\", 'score': 0.8205184, 'raw_content': None}, {'url': 'https://www.weather25.com/north-america/usa/california/san-francisco?page=month&month=July', 'title': 'San Francisco weather in July 2025 | Weather25.com', 'content': '| February | 16° / 7° | 4 | 24 | 0 | 61 mm | Good | San Francisco in February | | March | 17° / 8° | 5 | 26 | 0 | 62 mm | Good | San Francisco in March | | May | 20° / 10° | 1 | 30 | 0 | 13 mm | Good | San Francisco in May | | July | 25° / 14° | 0 | 31 | 0 | 3 mm | Perfect | San Francisco in July | | December | 14° / 8° | 4 | 27 | 0 | 55 mm | Good | San Francisco in December |', 'score': 0.7644879, 'raw_content': None}], 'response_time': 1.26}\n"
     ]
    }
   ],
   "source": [
    "from langchain_tavily import TavilySearch\n",
    "\n",
    "search = TavilySearch(max_results=2)\n",
    "search_results = search.invoke(\"What is the weather in SF\")\n",
    "print(search_results)\n",
    "# If we want, we can create other tools.\n",
    "# Once we have all the tools we want, we can put them in a list that we will reference later.\n",
    "tools = [search]"
   ]
  },
  {
   "cell_type": "code",
   "execution_count": 14,
   "id": "77493d32-ad4b-4cbc-89db-a2329a39a4f0",
   "metadata": {},
   "outputs": [],
   "source": [
    "import getpass\n",
    "import os\n",
    "\n",
    "if not os.environ.get(\"GOOGLE_API_KEY\"):\n",
    "  os.environ[\"GOOGLE_API_KEY\"] = getpass.getpass(\"Enter API key for Google Gemini: \")\n",
    "\n",
    "from langchain.chat_models import init_chat_model\n",
    "\n",
    "model = init_chat_model(\"gemini-2.5-pro\", model_provider=\"google_genai\")"
   ]
  },
  {
   "cell_type": "code",
   "execution_count": 15,
   "id": "14a212f1-d5b7-48c5-bf7f-f3e2f3890081",
   "metadata": {},
   "outputs": [
    {
     "data": {
      "text/plain": [
       "'Hi there! How can I help you today?'"
      ]
     },
     "execution_count": 15,
     "metadata": {},
     "output_type": "execute_result"
    }
   ],
   "source": [
    "query = \"Hi!\"\n",
    "response = model.invoke([{\"role\": \"user\", \"content\": query}])\n",
    "response.text()"
   ]
  },
  {
   "cell_type": "code",
   "execution_count": 16,
   "id": "94bf29de-a72e-4193-a715-b0f6d6527944",
   "metadata": {},
   "outputs": [],
   "source": [
    "model_with_tools = model.bind_tools(tools)"
   ]
  },
  {
   "cell_type": "code",
   "execution_count": 17,
   "id": "1628c6a1-e0ac-4b71-90ef-2c201f3c9caf",
   "metadata": {},
   "outputs": [
    {
     "name": "stdout",
     "output_type": "stream",
     "text": [
      "Message content: Hello! How can I help you today?\n",
      "\n",
      "Tool calls: []\n"
     ]
    }
   ],
   "source": [
    "query = \"Hi!\"\n",
    "response = model_with_tools.invoke([{\"role\": \"user\", \"content\": query}])\n",
    "\n",
    "print(f\"Message content: {response.text()}\\n\")\n",
    "print(f\"Tool calls: {response.tool_calls}\")"
   ]
  },
  {
   "cell_type": "code",
   "execution_count": 18,
   "id": "f8f44276-c5ed-44eb-b200-5bf35646c0ce",
   "metadata": {},
   "outputs": [
    {
     "name": "stdout",
     "output_type": "stream",
     "text": [
      "Message content: \n",
      "\n",
      "Tool calls: [{'name': 'tavily_search', 'args': {'query': 'weather in San Francisco'}, 'id': 'cece1e39-a918-45c0-b0d4-a1758ccbef60', 'type': 'tool_call'}]\n"
     ]
    }
   ],
   "source": [
    "query = \"Search for the weather in San Francisco\"\n",
    "response = model_with_tools.invoke([{\"role\": \"user\", \"content\": query}])\n",
    "\n",
    "print(f\"Message content: {response.text()}\\n\")\n",
    "print(f\"Tool calls: {response.tool_calls}\")"
   ]
  },
  {
   "cell_type": "code",
   "execution_count": 19,
   "id": "8cb2ec60-7fd2-4db5-a2b5-f97d44461313",
   "metadata": {},
   "outputs": [],
   "source": [
    "from langgraph.prebuilt import create_react_agent\n",
    "\n",
    "agent_executor = create_react_agent(model, tools)"
   ]
  },
  {
   "cell_type": "code",
   "execution_count": 20,
   "id": "6721ddc1-f93a-40ec-9da3-ab3cfd71537e",
   "metadata": {},
   "outputs": [
    {
     "name": "stdout",
     "output_type": "stream",
     "text": [
      "================================\u001b[1m Human Message \u001b[0m=================================\n",
      "\n",
      "Hi!\n",
      "==================================\u001b[1m Ai Message \u001b[0m==================================\n",
      "\n",
      "Hello! How can I help you today?\n"
     ]
    }
   ],
   "source": [
    "input_message = {\"role\": \"user\", \"content\": \"Hi!\"}\n",
    "response = agent_executor.invoke({\"messages\": [input_message]})\n",
    "\n",
    "for message in response[\"messages\"]:\n",
    "    message.pretty_print()"
   ]
  },
  {
   "cell_type": "code",
   "execution_count": 21,
   "id": "a9364c86-9ea5-469a-ace8-0d29ae0f2cc5",
   "metadata": {},
   "outputs": [
    {
     "name": "stdout",
     "output_type": "stream",
     "text": [
      "================================\u001b[1m Human Message \u001b[0m=================================\n",
      "\n",
      "Search for the weather in San Francisco\n",
      "==================================\u001b[1m Ai Message \u001b[0m==================================\n",
      "Tool Calls:\n",
      "  tavily_search (054bdbba-0ec5-45c1-b1a9-e675c8efc5dc)\n",
      " Call ID: 054bdbba-0ec5-45c1-b1a9-e675c8efc5dc\n",
      "  Args:\n",
      "    query: weather in San Francisco\n",
      "=================================\u001b[1m Tool Message \u001b[0m=================================\n",
      "Name: tavily_search\n",
      "\n",
      "{\"query\": \"weather in San Francisco\", \"follow_up_questions\": null, \"answer\": null, \"images\": [], \"results\": [{\"title\": \"Weather in San Francisco\", \"url\": \"https://www.weatherapi.com/\", \"content\": \"{'location': {'name': 'San Francisco', 'region': 'California', 'country': 'United States of America', 'lat': 37.775, 'lon': -122.4183, 'tz_id': 'America/Los_Angeles', 'localtime_epoch': 1752856180, 'localtime': '2025-07-18 09:29'}, 'current': {'last_updated_epoch': 1752855300, 'last_updated': '2025-07-18 09:15', 'temp_c': 15.6, 'temp_f': 60.1, 'is_day': 1, 'condition': {'text': 'Partly cloudy', 'icon': '//cdn.weatherapi.com/weather/64x64/day/116.png', 'code': 1003}, 'wind_mph': 5.8, 'wind_kph': 9.4, 'wind_degree': 265, 'wind_dir': 'W', 'pressure_mb': 1017.0, 'pressure_in': 30.03, 'precip_mm': 0.0, 'precip_in': 0.0, 'humidity': 83, 'cloud': 75, 'feelslike_c': 15.6, 'feelslike_f': 60.1, 'windchill_c': 13.0, 'windchill_f': 55.5, 'heatindex_c': 13.5, 'heatindex_f': 56.4, 'dewpoint_c': 12.0, 'dewpoint_f': 53.6, 'vis_km': 16.0, 'vis_miles': 9.0, 'uv': 2.7, 'gust_mph': 7.4, 'gust_kph': 11.8}}\", \"score\": 0.7937843, \"raw_content\": null}, {\"url\": \"https://www.weather25.com/north-america/usa/california/san-francisco?page=month&month=July\", \"title\": \"San Francisco weather in July 2025 | Weather25.com\", \"content\": \"| February | 16° / 7° | 4 | 24 | 0 | 61 mm | Good | San Francisco in February | | March | 17° / 8° | 5 | 26 | 0 | 62 mm | Good | San Francisco in March | | May | 20° / 10° | 1 | 30 | 0 | 13 mm | Good | San Francisco in May | | July | 25° / 14° | 0 | 31 | 0 | 3 mm | Perfect | San Francisco in July | | December | 14° / 8° | 4 | 27 | 0 | 55 mm | Good | San Francisco in December |\", \"score\": 0.7813477, \"raw_content\": null}], \"response_time\": 2.39}\n",
      "==================================\u001b[1m Ai Message \u001b[0m==================================\n",
      "\n",
      "The weather in San Francisco is currently 60.1°F (15.6°C) and partly cloudy. The wind is blowing from the west at 5.8 mph, and the humidity is at 83%.\n"
     ]
    }
   ],
   "source": [
    "input_message = {\"role\": \"user\", \"content\": \"Search for the weather in San Francisco\"}\n",
    "response = agent_executor.invoke({\"messages\": [input_message]})\n",
    "\n",
    "for message in response[\"messages\"]:\n",
    "    message.pretty_print()"
   ]
  },
  {
   "cell_type": "code",
   "execution_count": 22,
   "id": "aadff0b6-f13b-4cc2-b3f3-bd1b95b5d4c7",
   "metadata": {},
   "outputs": [
    {
     "name": "stdout",
     "output_type": "stream",
     "text": [
      "================================\u001b[1m Human Message \u001b[0m=================================\n",
      "\n",
      "Search for the weather in San Francisco\n",
      "==================================\u001b[1m Ai Message \u001b[0m==================================\n",
      "Tool Calls:\n",
      "  tavily_search (e2c557a5-7d7f-4a54-b36f-584537600095)\n",
      " Call ID: e2c557a5-7d7f-4a54-b36f-584537600095\n",
      "  Args:\n",
      "    query: weather in San Francisco\n",
      "=================================\u001b[1m Tool Message \u001b[0m=================================\n",
      "Name: tavily_search\n",
      "\n",
      "{\"query\": \"weather in San Francisco\", \"follow_up_questions\": null, \"answer\": null, \"images\": [], \"results\": [{\"title\": \"Weather in San Francisco\", \"url\": \"https://www.weatherapi.com/\", \"content\": \"{'location': {'name': 'San Francisco', 'region': 'California', 'country': 'United States of America', 'lat': 37.775, 'lon': -122.4183, 'tz_id': 'America/Los_Angeles', 'localtime_epoch': 1752856180, 'localtime': '2025-07-18 09:29'}, 'current': {'last_updated_epoch': 1752855300, 'last_updated': '2025-07-18 09:15', 'temp_c': 15.6, 'temp_f': 60.1, 'is_day': 1, 'condition': {'text': 'Partly cloudy', 'icon': '//cdn.weatherapi.com/weather/64x64/day/116.png', 'code': 1003}, 'wind_mph': 5.8, 'wind_kph': 9.4, 'wind_degree': 265, 'wind_dir': 'W', 'pressure_mb': 1017.0, 'pressure_in': 30.03, 'precip_mm': 0.0, 'precip_in': 0.0, 'humidity': 83, 'cloud': 75, 'feelslike_c': 15.6, 'feelslike_f': 60.1, 'windchill_c': 13.0, 'windchill_f': 55.5, 'heatindex_c': 13.5, 'heatindex_f': 56.4, 'dewpoint_c': 12.0, 'dewpoint_f': 53.6, 'vis_km': 16.0, 'vis_miles': 9.0, 'uv': 2.7, 'gust_mph': 7.4, 'gust_kph': 11.8}}\", \"score\": 0.7937843, \"raw_content\": null}, {\"url\": \"https://www.weather25.com/north-america/usa/california/san-francisco?page=month&month=July\", \"title\": \"San Francisco weather in July 2025 | Weather25.com\", \"content\": \"| February | 16° / 7° | 4 | 24 | 0 | 61 mm | Good | San Francisco in February | | March | 17° / 8° | 5 | 26 | 0 | 62 mm | Good | San Francisco in March | | May | 20° / 10° | 1 | 30 | 0 | 13 mm | Good | San Francisco in May | | July | 25° / 14° | 0 | 31 | 0 | 3 mm | Perfect | San Francisco in July | | December | 14° / 8° | 4 | 27 | 0 | 55 mm | Good | San Francisco in December |\", \"score\": 0.7813477, \"raw_content\": null}], \"response_time\": 1.37}\n",
      "==================================\u001b[1m Ai Message \u001b[0m==================================\n",
      "\n",
      "The weather in San Francisco is currently 60.1°F and partly cloudy. The wind is blowing at 5.8 mph, with a humidity of 83% and visibility of 9 miles.\n"
     ]
    }
   ],
   "source": [
    "for step in agent_executor.stream({\"messages\": [input_message]}, stream_mode=\"values\"):\n",
    "    step[\"messages\"][-1].pretty_print()"
   ]
  },
  {
   "cell_type": "code",
   "execution_count": 23,
   "id": "9f539242-7805-4789-9653-69e36a2e9604",
   "metadata": {},
   "outputs": [
    {
     "name": "stdout",
     "output_type": "stream",
     "text": [
      "The current weather in San Francisco is |60.1°F (15.6°C) and partly cloudy. The wind is blowing from the west at| 5.8 mph, and the humidity is at 83%.|"
     ]
    }
   ],
   "source": [
    "for step, metadata in agent_executor.stream(\n",
    "    {\"messages\": [input_message]}, stream_mode=\"messages\"\n",
    "):\n",
    "    if metadata[\"langgraph_node\"] == \"agent\" and (text := step.text()):\n",
    "        print(text, end=\"|\")"
   ]
  },
  {
   "cell_type": "code",
   "execution_count": 24,
   "id": "5c3ba17f-a34b-4820-a806-3adf7b6b69f7",
   "metadata": {},
   "outputs": [],
   "source": [
    "from langgraph.checkpoint.memory import MemorySaver\n",
    "\n",
    "memory = MemorySaver()"
   ]
  },
  {
   "cell_type": "code",
   "execution_count": 25,
   "id": "ae7e17ad-d1ad-41e3-b2c9-3b21c87b9196",
   "metadata": {},
   "outputs": [],
   "source": [
    "agent_executor = create_react_agent(model, tools, checkpointer=memory)\n",
    "\n",
    "config = {\"configurable\": {\"thread_id\": \"abc123\"}}"
   ]
  },
  {
   "cell_type": "code",
   "execution_count": 26,
   "id": "6805b7cc-7226-45d9-93d4-f28d4864d0a5",
   "metadata": {},
   "outputs": [
    {
     "name": "stdout",
     "output_type": "stream",
     "text": [
      "================================\u001b[1m Human Message \u001b[0m=================================\n",
      "\n",
      "Hi, I'm Bob!\n",
      "==================================\u001b[1m Ai Message \u001b[0m==================================\n",
      "\n",
      "Hello Bob! How can I help you today?\n"
     ]
    }
   ],
   "source": [
    "input_message = {\"role\": \"user\", \"content\": \"Hi, I'm Bob!\"}\n",
    "for step in agent_executor.stream(\n",
    "    {\"messages\": [input_message]}, config, stream_mode=\"values\"\n",
    "):\n",
    "    step[\"messages\"][-1].pretty_print()"
   ]
  },
  {
   "cell_type": "code",
   "execution_count": 27,
   "id": "717ea001-07bb-4e0d-9397-07d7c83b9af7",
   "metadata": {},
   "outputs": [
    {
     "name": "stdout",
     "output_type": "stream",
     "text": [
      "================================\u001b[1m Human Message \u001b[0m=================================\n",
      "\n",
      "What's my name?\n",
      "==================================\u001b[1m Ai Message \u001b[0m==================================\n",
      "\n",
      "Your name is Bob.\n"
     ]
    }
   ],
   "source": [
    "input_message = {\"role\": \"user\", \"content\": \"What's my name?\"}\n",
    "for step in agent_executor.stream(\n",
    "    {\"messages\": [input_message]}, config, stream_mode=\"values\"\n",
    "):\n",
    "    step[\"messages\"][-1].pretty_print()"
   ]
  },
  {
   "cell_type": "code",
   "execution_count": 28,
   "id": "be2c68b3-a9ea-408e-b00f-03ea4b481e1f",
   "metadata": {},
   "outputs": [
    {
     "name": "stdout",
     "output_type": "stream",
     "text": [
      "================================\u001b[1m Human Message \u001b[0m=================================\n",
      "\n",
      "What's my name?\n",
      "==================================\u001b[1m Ai Message \u001b[0m==================================\n",
      "\n",
      "I do not have access to your name.\n"
     ]
    }
   ],
   "source": [
    "config = {\"configurable\": {\"thread_id\": \"xyz123\"}}\n",
    "\n",
    "input_message = {\"role\": \"user\", \"content\": \"What's my name?\"}\n",
    "for step in agent_executor.stream(\n",
    "    {\"messages\": [input_message]}, config, stream_mode=\"values\"\n",
    "):\n",
    "    step[\"messages\"][-1].pretty_print()"
   ]
  },
  {
   "cell_type": "code",
   "execution_count": null,
   "id": "91980a33-7d74-4e25-885f-17e999fa90f2",
   "metadata": {},
   "outputs": [],
   "source": []
  }
 ],
 "metadata": {
  "kernelspec": {
   "display_name": "Python 3 (ipykernel)",
   "language": "python",
   "name": "python3"
  },
  "language_info": {
   "codemirror_mode": {
    "name": "ipython",
    "version": 3
   },
   "file_extension": ".py",
   "mimetype": "text/x-python",
   "name": "python",
   "nbconvert_exporter": "python",
   "pygments_lexer": "ipython3",
   "version": "3.12.1"
  }
 },
 "nbformat": 4,
 "nbformat_minor": 5
}
